{
 "cells": [
  {
   "cell_type": "code",
   "execution_count": 1,
   "metadata": {},
   "outputs": [
    {
     "name": "stdout",
     "output_type": "stream",
     "text": [
      "+------+-------+------+-----------+--------------+\n",
      "|userID|placeID|rating|food_rating|service_rating|\n",
      "+------+-------+------+-----------+--------------+\n",
      "|     1| 135085|     2|          2|             2|\n",
      "|     2| 135038|     2|          2|             1|\n",
      "|     3| 132825|     2|          2|             2|\n",
      "|     4| 135060|     1|          2|             2|\n",
      "|     5| 135104|     1|          1|             2|\n",
      "|     6| 132740|     0|          0|             0|\n",
      "|     7| 132663|     1|          1|             1|\n",
      "|     8| 132732|     0|          0|             0|\n",
      "|     9| 132630|     1|          1|             1|\n",
      "|    10| 132584|     2|          2|             2|\n",
      "|    11| 132733|     1|          1|             1|\n",
      "|    12| 132732|     1|          2|             2|\n",
      "|    13| 132630|     1|          0|             1|\n",
      "|    14| 135104|     0|          0|             0|\n",
      "|    15| 132560|     1|          0|             0|\n",
      "|    16| 132584|     1|          2|             1|\n",
      "|    17| 132732|     0|          0|             2|\n",
      "|    18| 132630|     1|          2|             0|\n",
      "|    19| 132613|     2|          2|             2|\n",
      "|    20| 132667|     1|          2|             2|\n",
      "+------+-------+------+-----------+--------------+\n",
      "only showing top 20 rows\n",
      "\n"
     ]
    }
   ],
   "source": [
    "from pyspark.ml.evaluation import RegressionEvaluator\n",
    "from pyspark.ml.recommendation import ALS\n",
    "from pyspark.sql import Row\n",
    "from pyspark.sql import SparkSession\n",
    "spark = SparkSession.builder.getOrCreate()\n",
    "data = spark.read.format(\"csv\").option(\"header\",True).option(\"inferSchema\",True).load(\"RCdata/rating_final.csv\")\n",
    "data.show()"
   ]
  },
  {
   "cell_type": "code",
   "execution_count": 4,
   "metadata": {},
   "outputs": [],
   "source": [
    "(training, test) = data.randomSplit([0.8, 0.2])\n",
    "als = ALS(maxIter=5, regParam=0.01, implicitPrefs=True,userCol=\"userID\", itemCol=\"placeID\", ratingCol=\"rating\",\n",
    "          coldStartStrategy=\"drop\")\n",
    "model = als.fit(training)"
   ]
  },
  {
   "cell_type": "code",
   "execution_count": 7,
   "metadata": {},
   "outputs": [
    {
     "name": "stdout",
     "output_type": "stream",
     "text": [
      "+------+------------------------------------------------------------------------------------------------------------------------------------------------------------------------------------------------------------------------+\n",
      "|userID|recommendations                                                                                                                                                                                                         |\n",
      "+------+------------------------------------------------------------------------------------------------------------------------------------------------------------------------------------------------------------------------+\n",
      "|463   |[[132862,0.48100093], [135060,0.36393434], [135032,0.25766575], [132754,0.18146174], [135051,0.17885107], [135072,0.1247983], [132723,0.12071887], [135057,0.104022026], [132872,0.102057114], [135058,0.09104104]]     |\n",
      "|833   |[[135038,0.09330819], [132825,0.090056315], [135039,0.05923301], [135057,0.057779774], [135079,0.049921643], [135045,0.048617616], [132921,0.04774813], [135075,0.035188816], [135058,0.031516954], [135059,0.03065281]]|\n",
      "|496   |[[132560,0.0], [132630,0.0], [132660,0.0], [132740,0.0], [132830,0.0], [132870,0.0], [135000,0.0], [135030,0.0], [135040,0.0], [135050,0.0]]                                                                            |\n",
      "|148   |[[135051,0.051854], [132862,0.05014171], [135026,0.03888851], [132572,0.038523607], [135060,0.035370983], [135030,0.031751085], [135072,0.03148463], [135038,0.030215243], [135076,0.028989723], [134976,0.0251938]]    |\n",
      "|1088  |[[135075,0.39391476], [135076,0.23548545], [135030,0.18134171], [135057,0.15644243], [135066,0.15440075], [135041,0.13692331], [132754,0.1352996], [135047,0.13422821], [132723,0.121487096], [135062,0.11667653]]      |\n",
      "+------+------------------------------------------------------------------------------------------------------------------------------------------------------------------------------------------------------------------------+\n",
      "only showing top 5 rows\n",
      "\n"
     ]
    }
   ],
   "source": [
    "predictions = model.transform(test)\n",
    "evaluator = RegressionEvaluator(metricName=\"rmse\", labelCol=\"rating\",\n",
    "                                predictionCol=\"prediction\")\n",
    "#rmse = evaluator.evaluate(predictions)\n",
    "#print(\"Root-mean-square error = \" + str(rmse))\n",
    "userRecs = model.recommendForAllUsers(10)\n",
    "movieRecs = model.recommendForAllItems(10)\n",
    "userRecs.show(5,False)"
   ]
  },
  {
   "cell_type": "code",
   "execution_count": null,
   "metadata": {},
   "outputs": [],
   "source": []
  }
 ],
 "metadata": {
  "kernelspec": {
   "display_name": "Python 2",
   "language": "python",
   "name": "python2"
  },
  "language_info": {
   "codemirror_mode": {
    "name": "ipython",
    "version": 2
   },
   "file_extension": ".py",
   "mimetype": "text/x-python",
   "name": "python",
   "nbconvert_exporter": "python",
   "pygments_lexer": "ipython2",
   "version": "2.7.14"
  }
 },
 "nbformat": 4,
 "nbformat_minor": 2
}
