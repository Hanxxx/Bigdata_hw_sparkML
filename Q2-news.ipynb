{
 "cells": [
  {
   "cell_type": "code",
   "execution_count": null,
   "metadata": {},
   "outputs": [],
   "source": [
    "import nltk\n",
    "nltk.download('punkt')\n",
    "import csv\n",
    "    "
   ]
  },
  {
   "cell_type": "markdown",
   "metadata": {},
   "source": [
    "Read a dataset that contains news_headlines for clustering"
   ]
  },
  {
   "cell_type": "code",
   "execution_count": 50,
   "metadata": {},
   "outputs": [
    {
     "name": "stdout",
     "output_type": "stream",
     "text": [
      "+------------+--------------------+\n",
      "|publish_date|       headline_text|\n",
      "+------------+--------------------+\n",
      "|    20030219|aba decides again...|\n",
      "|    20030219|act fire witnesse...|\n",
      "|    20030219|a g calls for inf...|\n",
      "|    20030219|air nz staff in a...|\n",
      "|    20030219|air nz strike to ...|\n",
      "|    20030219|ambitious olsson ...|\n",
      "|    20030219|antic delighted w...|\n",
      "|    20030219|aussie qualifier ...|\n",
      "|    20030219|aust addresses un...|\n",
      "|    20030219|australia is lock...|\n",
      "|    20030219|australia to cont...|\n",
      "|    20030219|barca take record...|\n",
      "|    20030219|bathhouse plans m...|\n",
      "|    20030219|big hopes for lau...|\n",
      "|    20030219|big plan to boost...|\n",
      "|    20030219|blizzard buries u...|\n",
      "|    20030219|brigadier dismiss...|\n",
      "|    20030219|british combat tr...|\n",
      "|    20030219|bryant leads lake...|\n",
      "|    20030219|bushfire victims ...|\n",
      "+------------+--------------------+\n",
      "only showing top 20 rows\n",
      "\n"
     ]
    }
   ],
   "source": [
    "from pyspark.sql import Row\n",
    "from pyspark.sql import SparkSession\n",
    "from pyspark.ml.feature import HashingTF, IDF, Tokenizer\n",
    "spark = SparkSession.builder.getOrCreate()\n",
    "data = spark.read.format(\"csv\").option(\"header\",True).option(\"inferSchema\",True).load(\"abcnews-date-text.csv\")\n",
    "data.show()\n",
    "data = data.limit(500000)"
   ]
  },
  {
   "cell_type": "code",
   "execution_count": 51,
   "metadata": {},
   "outputs": [
    {
     "name": "stdout",
     "output_type": "stream",
     "text": [
      "+------------+--------------------+--------------------+\n",
      "|publish_date|       headline_text|               words|\n",
      "+------------+--------------------+--------------------+\n",
      "|    20030219|aba decides again...|[aba, decides, ag...|\n",
      "|    20030219|act fire witnesse...|[act, fire, witne...|\n",
      "|    20030219|a g calls for inf...|[a, g, calls, for...|\n",
      "|    20030219|air nz staff in a...|[air, nz, staff, ...|\n",
      "|    20030219|air nz strike to ...|[air, nz, strike,...|\n",
      "|    20030219|ambitious olsson ...|[ambitious, olsso...|\n",
      "|    20030219|antic delighted w...|[antic, delighted...|\n",
      "|    20030219|aussie qualifier ...|[aussie, qualifie...|\n",
      "|    20030219|aust addresses un...|[aust, addresses,...|\n",
      "|    20030219|australia is lock...|[australia, is, l...|\n",
      "|    20030219|australia to cont...|[australia, to, c...|\n",
      "|    20030219|barca take record...|[barca, take, rec...|\n",
      "|    20030219|bathhouse plans m...|[bathhouse, plans...|\n",
      "|    20030219|big hopes for lau...|[big, hopes, for,...|\n",
      "|    20030219|big plan to boost...|[big, plan, to, b...|\n",
      "|    20030219|blizzard buries u...|[blizzard, buries...|\n",
      "|    20030219|brigadier dismiss...|[brigadier, dismi...|\n",
      "|    20030219|british combat tr...|[british, combat,...|\n",
      "|    20030219|bryant leads lake...|[bryant, leads, l...|\n",
      "|    20030219|bushfire victims ...|[bushfire, victim...|\n",
      "+------------+--------------------+--------------------+\n",
      "only showing top 20 rows\n",
      "\n"
     ]
    },
    {
     "data": {
      "text/plain": [
       "500000"
      ]
     },
     "execution_count": 51,
     "metadata": {},
     "output_type": "execute_result"
    }
   ],
   "source": [
    "tokenizer = Tokenizer(inputCol=\"headline_text\", outputCol=\"words\")\n",
    "wordsData = tokenizer.transform(data)\n",
    "wordsData.show()\n",
    "wordsData.count()\n"
   ]
  },
  {
   "cell_type": "markdown",
   "metadata": {},
   "source": [
    "# TF-IDF"
   ]
  },
  {
   "cell_type": "code",
   "execution_count": 52,
   "metadata": {},
   "outputs": [],
   "source": [
    "hashingTF = HashingTF(inputCol=\"words\", outputCol=\"rawFeatures\",numFeatures=300)\n",
    "featurizedData = hashingTF.transform(wordsData)"
   ]
  },
  {
   "cell_type": "code",
   "execution_count": 53,
   "metadata": {},
   "outputs": [
    {
     "name": "stdout",
     "output_type": "stream",
     "text": [
      "+------------+--------------------+--------------------+--------------------+\n",
      "|publish_date|       headline_text|               words|         rawFeatures|\n",
      "+------------+--------------------+--------------------+--------------------+\n",
      "|    20030219|aba decides again...|[aba, decides, ag...|(300,[42,57,122,1...|\n",
      "|    20030219|act fire witnesse...|[act, fire, witne...|(300,[23,43,72,11...|\n",
      "|    20030219|a g calls for inf...|[a, g, calls, for...|(300,[46,66,144,1...|\n",
      "|    20030219|air nz staff in a...|[air, nz, staff, ...|(300,[83,116,117,...|\n",
      "|    20030219|air nz strike to ...|[air, nz, strike,...|(300,[45,88,109,1...|\n",
      "|    20030219|ambitious olsson ...|[ambitious, olsso...|(300,[18,110,192,...|\n",
      "|    20030219|antic delighted w...|[antic, delighted...|(300,[50,81,105,1...|\n",
      "|    20030219|aussie qualifier ...|[aussie, qualifie...|(300,[0,39,51,110...|\n",
      "|    20030219|aust addresses un...|[aust, addresses,...|(300,[79,83,111,1...|\n",
      "|    20030219|australia is lock...|[australia, is, l...|(300,[2,62,100,18...|\n",
      "|    20030219|australia to cont...|[australia, to, c...|(300,[2,42,88,111...|\n",
      "|    20030219|barca take record...|[barca, take, rec...|(300,[81,95,138,1...|\n",
      "|    20030219|bathhouse plans m...|[bathhouse, plans...|(300,[107,139,197...|\n",
      "|    20030219|big hopes for lau...|[big, hopes, for,...|(300,[44,168,225,...|\n",
      "|    20030219|big plan to boost...|[big, plan, to, b...|(300,[88,123,204,...|\n",
      "|    20030219|blizzard buries u...|[blizzard, buries...|(300,[11,105,154,...|\n",
      "|    20030219|brigadier dismiss...|[brigadier, dismi...|(300,[35,129,195,...|\n",
      "|    20030219|british combat tr...|[british, combat,...|(300,[35,95,117,1...|\n",
      "|    20030219|bryant leads lake...|[bryant, leads, l...|(300,[84,88,200,2...|\n",
      "|    20030219|bushfire victims ...|[bushfire, victim...|(300,[15,88,158,1...|\n",
      "+------------+--------------------+--------------------+--------------------+\n",
      "only showing top 20 rows\n",
      "\n"
     ]
    }
   ],
   "source": [
    "featurizedData.show()"
   ]
  },
  {
   "cell_type": "markdown",
   "metadata": {},
   "source": [
    "## IDF features "
   ]
  },
  {
   "cell_type": "code",
   "execution_count": 54,
   "metadata": {},
   "outputs": [
    {
     "name": "stdout",
     "output_type": "stream",
     "text": [
      "+--------------------+--------------------+\n",
      "|       headline_text|            features|\n",
      "+--------------------+--------------------+\n",
      "|aba decides again...|(300,[42,57,122,1...|\n",
      "|act fire witnesse...|(300,[23,43,72,11...|\n",
      "|a g calls for inf...|(300,[46,66,144,1...|\n",
      "|air nz staff in a...|(300,[83,116,117,...|\n",
      "|air nz strike to ...|(300,[45,88,109,1...|\n",
      "|ambitious olsson ...|(300,[18,110,192,...|\n",
      "|antic delighted w...|(300,[50,81,105,1...|\n",
      "|aussie qualifier ...|(300,[0,39,51,110...|\n",
      "|aust addresses un...|(300,[79,83,111,1...|\n",
      "|australia is lock...|(300,[2,62,100,18...|\n",
      "|australia to cont...|(300,[2,42,88,111...|\n",
      "|barca take record...|(300,[81,95,138,1...|\n",
      "|bathhouse plans m...|(300,[107,139,197...|\n",
      "|big hopes for lau...|(300,[44,168,225,...|\n",
      "|big plan to boost...|(300,[88,123,204,...|\n",
      "|blizzard buries u...|(300,[11,105,154,...|\n",
      "|brigadier dismiss...|(300,[35,129,195,...|\n",
      "|british combat tr...|(300,[35,95,117,1...|\n",
      "|bryant leads lake...|(300,[84,88,200,2...|\n",
      "|bushfire victims ...|(300,[15,88,158,1...|\n",
      "+--------------------+--------------------+\n",
      "only showing top 20 rows\n",
      "\n"
     ]
    }
   ],
   "source": [
    "idf = IDF(inputCol=\"rawFeatures\", outputCol=\"features\")\n",
    "idfModel = idf.fit(featurizedData)\n",
    "rescaledData = idfModel.transform(featurizedData)\n",
    "\n",
    "rescaledData.select(\"headline_text\", \"features\").show()\n",
    "rescaledData = rescaledData.select(\"features\")"
   ]
  },
  {
   "cell_type": "markdown",
   "metadata": {},
   "source": [
    "# I only use the headline of news and that maybe the reason why the Error is so huge"
   ]
  },
  {
   "cell_type": "code",
   "execution_count": 59,
   "metadata": {},
   "outputs": [
    {
     "name": "stdout",
     "output_type": "stream",
     "text": [
      "Within Set Sum of Squared Errors = 33112470.9293\n"
     ]
    }
   ],
   "source": [
    "from pyspark.ml.clustering import KMeans\n",
    "\n",
    "kmeans = KMeans().setK(300).setSeed(1)\n",
    "model = kmeans.fit(rescaledData)\n",
    "\n",
    "\n",
    "wssse = model.computeCost(rescaledData)\n",
    "print(\"Within Set Sum of Squared Errors = \" + str(wssse))\n",
    "\n",
    "\n",
    "centers = model.clusterCenters()"
   ]
  },
  {
   "cell_type": "code",
   "execution_count": null,
   "metadata": {},
   "outputs": [],
   "source": []
  }
 ],
 "metadata": {
  "kernelspec": {
   "display_name": "Python 2",
   "language": "python",
   "name": "python2"
  },
  "language_info": {
   "codemirror_mode": {
    "name": "ipython",
    "version": 2
   },
   "file_extension": ".py",
   "mimetype": "text/x-python",
   "name": "python",
   "nbconvert_exporter": "python",
   "pygments_lexer": "ipython2",
   "version": "2.7.14"
  }
 },
 "nbformat": 4,
 "nbformat_minor": 2
}
